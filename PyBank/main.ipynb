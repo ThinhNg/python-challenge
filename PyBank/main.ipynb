{
 "cells": [
  {
   "cell_type": "code",
   "execution_count": 1,
   "metadata": {},
   "outputs": [],
   "source": [
    "import os,sys,csv"
   ]
  },
  {
   "cell_type": "code",
   "execution_count": 2,
   "metadata": {},
   "outputs": [],
   "source": [
    "#Sets Path for CSV file.\n",
    "Budget = 'C:/Users/Thinh/Desktop/Data_Science_Assignment/python-challenge/budget_data.csv'"
   ]
  },
  {
   "cell_type": "code",
   "execution_count": 3,
   "metadata": {},
   "outputs": [],
   "source": [
    "#Sets up Lists for calculating.\n",
    "\n",
    "Total_Months=[];\n",
    "Profit_Losses=[];"
   ]
  },
  {
   "cell_type": "code",
   "execution_count": 4,
   "metadata": {},
   "outputs": [
    {
     "name": "stdout",
     "output_type": "stream",
     "text": [
      "['Date', 'Profit/Losses']\n"
     ]
    }
   ],
   "source": [
    "\n",
    "#Opens budget_data.csv and appends the months and the Profits/Losses to the corresponding lists.\n",
    "with open(Budget) as csvfile:\n",
    "    csvreader=csv.reader(csvfile,delimiter=',');\n",
    "    \n",
    "    print(next(csvreader));\n",
    "    \n",
    "    for row in csvreader:\n",
    "        Total_Months.append(row[0]);\n",
    "        Profit_Losses.append(float(row[1]));\n",
    "        "
   ]
  },
  {
   "cell_type": "code",
   "execution_count": 5,
   "metadata": {},
   "outputs": [],
   "source": [
    "Changes = [];\n",
    "#Starting from the second month (Index of 1) the the change between Profit/Losses from month to month was calculated.\n",
    "for i in range(1,len(Profit_Losses)):\n",
    "        Changes.append(Profit_Losses[i]-Profit_Losses[i-1]);\n",
    "\n",
    "#Gets the index of the max/min of the Changes list.\n",
    "MaxCIndex=Changes.index(max(Changes));\n",
    "MinCIndex=Changes.index(min(Changes));\n",
    "\n",
    "    "
   ]
  },
  {
   "cell_type": "code",
   "execution_count": 6,
   "metadata": {},
   "outputs": [
    {
     "name": "stdout",
     "output_type": "stream",
     "text": [
      "\n",
      "Total Months: 86\n",
      "Total: $38382578.0\n",
      "Average  Change: $-2315.12\n",
      "Greatest Increase in Profits: Feb-2012 ($1926159)\n",
      "Greatest Decrease in Profits: Sep-2013 ($-2196167)\n",
      "\n"
     ]
    }
   ],
   "source": [
    "\n",
    "\n",
    "#Total Months is calculated by finding the size of the Total_Month list : len(Total_Months)\n",
    "#Total is calculated by suming up the Profit_Losses list using sum(Profit_Losses)\n",
    "#Average Change is calculated by calculating the sum of the Changes list sum(Profit_Losses) and dividing the by the size of the list len(Changes).\n",
    "\n",
    "#Greatest Increase/Decrease month is calculating using the index of Max/Min of the Changes list. The + 1 to the index is to account for no change calculation present for the first month.\n",
    "\n",
    "print(f\"\"\"\n",
    "Total Months: {len(Total_Months)}\n",
    "Total: ${sum(Profit_Losses)}\n",
    "Average  Change: ${round(sum(Changes)/len(Changes),2)}\n",
    "Greatest Increase in Profits: {Total_Months[MaxCIndex+1]} (${int(max(Changes))})\n",
    "Greatest Decrease in Profits: {Total_Months[MinCIndex+1]} (${int(min(Changes))})\n",
    "\"\"\")\n",
    "\n",
    "\n",
    "\n",
    "\n"
   ]
  },
  {
   "cell_type": "code",
   "execution_count": 7,
   "metadata": {},
   "outputs": [],
   "source": [
    "# Opens a text file and writes the data summary to the file.\n",
    "with open(os.path.join(sys.path[0],'BudgetSummary.txt'),'w') as TextFile:\n",
    "\n",
    "    TextFile.write(f\"\"\"\n",
    "Total Months: {len(Total_Months)}\n",
    "Total: ${sum(Profit_Losses)}\n",
    "Average  Change: ${round(sum(Changes)/len(Changes),2)}\n",
    "Greatest Increase in Profits: {Total_Months[MaxCIndex+1]} $({int(max(Changes))})\n",
    "Greatest Decrease in Profits: {Total_Months[MinCIndex+1]} $({int(min(Changes))})\n",
    "\"\"\")\n"
   ]
  },
  {
   "cell_type": "code",
   "execution_count": null,
   "metadata": {},
   "outputs": [],
   "source": []
  }
 ],
 "metadata": {
  "kernelspec": {
   "display_name": "Python 3",
   "language": "python",
   "name": "python3"
  },
  "language_info": {
   "codemirror_mode": {
    "name": "ipython",
    "version": 3
   },
   "file_extension": ".py",
   "mimetype": "text/x-python",
   "name": "python",
   "nbconvert_exporter": "python",
   "pygments_lexer": "ipython3",
   "version": "3.7.0"
  }
 },
 "nbformat": 4,
 "nbformat_minor": 2
}
