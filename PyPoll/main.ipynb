{
 "cells": [
  {
   "cell_type": "code",
   "execution_count": 39,
   "metadata": {},
   "outputs": [],
   "source": [
    "import os,sys,csv"
   ]
  },
  {
   "cell_type": "code",
   "execution_count": 40,
   "metadata": {},
   "outputs": [],
   "source": [
    "# Creates variables for adding up votes for each candidation.\n",
    "Khan = 0;\n",
    "Correy =0;\n",
    "Li = 0;\n",
    "OTooley=0;"
   ]
  },
  {
   "cell_type": "code",
   "execution_count": 41,
   "metadata": {},
   "outputs": [],
   "source": [
    "#Creates path to CSV File.\n",
    "ElectionData = 'C:/Users/Thinh/Desktop/Data_Science_Assignment/python-challenge/PyPoll/election_data.csv'"
   ]
  },
  {
   "cell_type": "code",
   "execution_count": 42,
   "metadata": {},
   "outputs": [
    {
     "name": "stdout",
     "output_type": "stream",
     "text": [
      "['Voter ID', 'County', 'Candidate']\n"
     ]
    }
   ],
   "source": [
    "#Opens election_data.csv and parses through csv and adds up votes for each candidate.\n",
    "\n",
    "with open (ElectionData) as CandidateVotes:\n",
    "    csvreader = csv.reader(CandidateVotes,delimiter=',');\n",
    "    #Prints out header of CSV.\n",
    "    print(next(csvreader));\n",
    "    \n",
    "    #Loops through each row and counts up votes for candidates through conditional statements that check for the candidate name.\n",
    "    for row in csvreader:\n",
    "        \n",
    "        \n",
    "        if row[2] == 'Khan':\n",
    "            Khan += 1;\n",
    "        elif row[2] == 'Correy':\n",
    "            Correy +=1;\n",
    "        elif row[2] == 'Li':\n",
    "            Li +=1;\n",
    "        elif row[2] == \"O'Tooley\":\n",
    "            OTooley +=1;\n",
    "   "
   ]
  },
  {
   "cell_type": "code",
   "execution_count": 44,
   "metadata": {},
   "outputs": [
    {
     "name": "stdout",
     "output_type": "stream",
     "text": [
      "3521001\n"
     ]
    }
   ],
   "source": [
    "#Calculates the Total Votes of all Candidates\n",
    "TotalVotes = Khan+Correy+Li+OTooley;\n"
   ]
  },
  {
   "cell_type": "code",
   "execution_count": 51,
   "metadata": {},
   "outputs": [],
   "source": [
    "#Calculate the Vote Percentage of all Candidates\n",
    "KhanPercent = round(Khan/TotalVotes*100,3);\n",
    "CorreyPercent = round(Correy/TotalVotes*100,3);\n",
    "LiPercent = round(Li/TotalVotes*100,3);\n",
    "OTooleyPercent = round(OTooley/TotalVotes*100,3);\n"
   ]
  },
  {
   "cell_type": "code",
   "execution_count": 54,
   "metadata": {},
   "outputs": [],
   "source": [
    "#WinnerVoteList is used to check for winner by finding the candidate with the most votes. The index of the winner is recorded.\n",
    "WinnerVoteList = [Khan,Correy,Li,OTooley];\n",
    "WinnerIndex = WinnerVoteList.index(max(WinnerVoteList));\n",
    "\n",
    "# Using the Winnerindex the candidate that won is outputed by using the CandidateList to reference.\n",
    "CandidateList= [\"Khan\",\"Correy\",\"Li\",\"O'Tooley\"]\n",
    "\n",
    "Winner = CandidateList[WinnerIndex];\n"
   ]
  },
  {
   "cell_type": "code",
   "execution_count": 57,
   "metadata": {},
   "outputs": [
    {
     "name": "stdout",
     "output_type": "stream",
     "text": [
      "Election Analysis\n",
      "-------------------------\n",
      "Total Votes: 3521001\n",
      "-------------------------\n",
      "Khan: 63.0% (2218231)\n",
      "Correy: 20.0% (704200)\n",
      "Li: 14.0% (492940)\n",
      "O'Tooley: 3.0% (105630)\n",
      "-------------------------\n",
      "Winner: Khan\n",
      "-------------------------\n",
      "\n"
     ]
    }
   ],
   "source": [
    "#Prints out Election Summary for Data.\n",
    "\n",
    "print(f\"\"\"Election Analysis\n",
    "-------------------------\n",
    "Total Votes: {TotalVotes}\n",
    "-------------------------\n",
    "Khan: {KhanPercent}% ({Khan})\n",
    "Correy: {CorreyPercent}% ({Correy})\n",
    "Li: {LiPercent}% ({Li})\n",
    "O'Tooley: {OTooleyPercent}% ({OTooley})\n",
    "-------------------------\n",
    "Winner: {Winner}\n",
    "-------------------------\n",
    "\"\"\")\n",
    "\n",
    "\n",
    "\n",
    "\n",
    "\n",
    "\n"
   ]
  },
  {
   "cell_type": "code",
   "execution_count": null,
   "metadata": {},
   "outputs": [],
   "source": [
    "#Writes to File out Election Summary for Data.\n",
    "with open(os.path.join(sys.path[0],'ElectionSummary.txt'),'w') as TextFile:\n",
    "\n",
    "    TextFile.write(f\"\"\"Election Analysis\n",
    "-------------------------\n",
    "Total Votes: {TotalVotes}\n",
    "-------------------------\n",
    "Khan: {KhanPercent}% ({Khan})\n",
    "Correy: {CorreyPercent}% ({Correy})\n",
    "Li: {LiPercent}% ({Li})\n",
    "O'Tooley: {OTooleyPercent}% ({OTooley})\n",
    "-------------------------\n",
    "Winner: {Winner}\n",
    "-------------------------\n",
    "\"\"\")\n",
    "\n"
   ]
  }
 ],
 "metadata": {
  "kernelspec": {
   "display_name": "Python 3",
   "language": "python",
   "name": "python3"
  },
  "language_info": {
   "codemirror_mode": {
    "name": "ipython",
    "version": 3
   },
   "file_extension": ".py",
   "mimetype": "text/x-python",
   "name": "python",
   "nbconvert_exporter": "python",
   "pygments_lexer": "ipython3",
   "version": "3.7.0"
  }
 },
 "nbformat": 4,
 "nbformat_minor": 2
}
